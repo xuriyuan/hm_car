{
 "cells": [
  {
   "cell_type": "markdown",
   "metadata": {},
   "source": [
    "# 熟悉python web开发的api"
   ]
  },
  {
   "cell_type": "code",
   "execution_count": null,
   "metadata": {},
   "outputs": [],
   "source": [
    "# 安装flask ，web服务器。\n",
    "# 指令 conda install flask"
   ]
  },
  {
   "cell_type": "code",
   "execution_count": null,
   "metadata": {},
   "outputs": [],
   "source": [
    "from flask import Flask\n",
    "\n",
    "# 创建一个web服务器\n",
    "app = Flask(__name__)\n",
    "\n",
    "@app.route(\"/bbb\")\n",
    "def haha():\n",
    "    return \"haha\"\n",
    "\n",
    "@app.route(\"/aaa\")\n",
    "def haha2():\n",
    "    return \"<h1>静夜思</h1>  <h2 style='color:blue'>床前明月光</h2>\"\n",
    "\n",
    "if __name__ == '__main__':\n",
    "    app.run(port=80)"
   ]
  },
  {
   "cell_type": "markdown",
   "metadata": {},
   "source": [
    "## 安装websocket"
   ]
  },
  {
   "cell_type": "code",
   "execution_count": null,
   "metadata": {},
   "outputs": [],
   "source": [
    "## 安装socketio支持的库\n",
    "## conda install -c conda-forge python-socketio\n",
    "## conda install -c conda-forge eventlet"
   ]
  },
  {
   "cell_type": "code",
   "execution_count": null,
   "metadata": {},
   "outputs": [],
   "source": [
    "import eventlet\n",
    "import socketio\n",
    "from flask import Flask\n",
    "\n",
    "\n",
    "sio = socketio.Server() ## 创建一个socketio的服务器\n",
    "app = Flask(__name__)\n",
    "\n",
    "@sio.on('connect')\n",
    "def connect(sid,env):\n",
    "    print(\"websocket建立起来了\")\n",
    "    sio.emit(\"steer\",data={\n",
    "        'steering_angle':'0',\n",
    "        'throttle':'1'\n",
    "    })\n",
    "\n",
    "if __name__=='__main__':\n",
    "    # 把web服务器和socketio绑定在一起\n",
    "    app = socketio.Middleware(sio,app)\n",
    "    # 监听socket的事件\n",
    "    eventlet.wsgi.server(eventlet.listen(('',4567)),app)"
   ]
  },
  {
   "cell_type": "code",
   "execution_count": null,
   "metadata": {
    "scrolled": true
   },
   "outputs": [
    {
     "name": "stderr",
     "output_type": "stream",
     "text": [
      "(11028) wsgi starting up on http://0.0.0.0:4567\n",
      "(11028) accepted ('127.0.0.1', 53060)\n"
     ]
    },
    {
     "name": "stdout",
     "output_type": "stream",
     "text": [
      "websocket建立起来了\n"
     ]
    }
   ],
   "source": [
    "import eventlet\n",
    "import socketio\n",
    "from flask import Flask\n",
    "from io import BytesIO\n",
    "from PIL import Image\n",
    "import cv2\n",
    "import base64\n",
    "import numpy as np\n",
    "#导包 引入tensorflow的api\n",
    "import tensorflow as tf\n",
    "\n",
    "\n",
    "model = tf.keras.models.load_model('001.h5')\n",
    "sio = socketio.Server() ## 创建一个socketio的服务器\n",
    "app = Flask(__name__)\n",
    "\n",
    "speed_limit = 10\n",
    "\n",
    "@sio.on('connect')\n",
    "def connect(sid,env):\n",
    "    print(\"websocket建立起来了\")\n",
    "    sio.emit(\"steer\",data={\n",
    "        'steering_angle':'0',\n",
    "        'throttle':'1'\n",
    "    })\n",
    "    \n",
    "    \n",
    "@sio.on('telemetry')\n",
    "def telemetry(sid,data):\n",
    "    image = Image.open(BytesIO(base64.b64decode(data['image'])))\n",
    "    image = np.asarray(image)\n",
    "#    image = cv2.cvtColor(image,cv2.COLOR_RGB2BGR)\n",
    "    cv2.imshow(\"camera\",image)\n",
    "    cv2.waitKey(10)\n",
    "    \n",
    "    ## 基于画面，判断方向盘的角度\n",
    "    image = image[60:135,:,:]\n",
    "    image = cv2.GaussianBlur(image,(3,3),1)\n",
    "    image = cv2.resize(image,(200,66))\n",
    "    image = cv2.cvtColor(image,cv2.COLOR_RGB2YUV)\n",
    "    \n",
    "    image  = image/255.0\n",
    "    angle = model.predict(image.reshape(1,66,200,3))[0][0]\n",
    "    \n",
    "    \n",
    "    ## 当前的车速和油门\n",
    "    speed = float(data['speed'])\n",
    "    throttle = 1.0 - speed/ speed_limit\n",
    "    \n",
    "    ## 发送方向盘角度到模拟器\n",
    "    sio.emit(\"steer\",data={\n",
    "        'steering_angle':angle.__str__(),\n",
    "        'throttle': throttle.__str__()\n",
    "    })\n",
    "    \n",
    "\n",
    "if __name__=='__main__':\n",
    "    # 把web服务器和socketio绑定在一起\n",
    "    app = socketio.Middleware(sio,app)\n",
    "    # 监听socket的事件\n",
    "    eventlet.wsgi.server(eventlet.listen(('',4567)),app)"
   ]
  },
  {
   "cell_type": "markdown",
   "metadata": {},
   "source": [
    "## 带方向盘的演示效果"
   ]
  },
  {
   "cell_type": "code",
   "execution_count": null,
   "metadata": {},
   "outputs": [
    {
     "name": "stderr",
     "output_type": "stream",
     "text": [
      "(12476) wsgi starting up on http://0.0.0.0:4567\n",
      "(12476) accepted ('127.0.0.1', 51858)\n"
     ]
    },
    {
     "name": "stdout",
     "output_type": "stream",
     "text": [
      "websocket建立起来了\n"
     ]
    },
    {
     "name": "stderr",
     "output_type": "stream",
     "text": [
      "127.0.0.1 - - [21/Oct/2020 16:38:26] \"GET /socket.io/?EIO=4&transport=websocket HTTP/1.1\" 200 0 126.510103\n"
     ]
    }
   ],
   "source": [
    "import eventlet\n",
    "import socketio\n",
    "from flask import Flask\n",
    "from io import BytesIO\n",
    "from PIL import Image\n",
    "import cv2\n",
    "import base64\n",
    "import numpy as np\n",
    "#导包 引入tensorflow的api\n",
    "import tensorflow as tf\n",
    "\n",
    "\n",
    "model = tf.keras.models.load_model('001.h5')\n",
    "sio = socketio.Server() ## 创建一个socketio的服务器\n",
    "app = Flask(__name__)\n",
    "\n",
    "speed_limit = 10\n",
    "\n",
    "@sio.on('connect')\n",
    "def connect(sid,env):\n",
    "    print(\"websocket建立起来了\")\n",
    "    sio.emit(\"steer\",data={\n",
    "        'steering_angle':'0',\n",
    "        'throttle':'1'\n",
    "    })\n",
    "    \n",
    "    \n",
    "@sio.on('telemetry')\n",
    "def telemetry(sid,data):\n",
    "    image = Image.open(BytesIO(base64.b64decode(data['image'])))\n",
    "    image = np.asarray(image)\n",
    "#    image = cv2.cvtColor(image,cv2.COLOR_RGB2BGR)\n",
    "    cv2.imshow(\"camera\",image)\n",
    "    cv2.waitKey(10)\n",
    "    img = cv2.imread('car.jpg')\n",
    "    rows,cols,_ = img.shape\n",
    "\n",
    "    \n",
    "    ## 基于画面，判断方向盘的角度\n",
    "    image = image[60:135,:,:]\n",
    "    image = cv2.GaussianBlur(image,(3,3),1)\n",
    "    image = cv2.resize(image,(200,66))\n",
    "    image = cv2.cvtColor(image,cv2.COLOR_RGB2YUV)\n",
    "    \n",
    "    image  = image/255.0\n",
    "    angle = model.predict(image.reshape(1,66,200,3))[0][0]\n",
    "     #按照中心点得到一个旋转矩阵\n",
    "    M = cv2.getRotationMatrix2D((cols/2,rows/2),-angle*180/3.14,1)\n",
    "    dst = cv2.warpAffine(img,M,(cols,rows))\n",
    "    cv2.imshow(\"new\",dst)   \n",
    "    \n",
    "    ## 当前的车速和油门\n",
    "    speed = float(data['speed'])\n",
    "    throttle = 1.0 - speed/ speed_limit\n",
    "    \n",
    "    ## 发送方向盘角度到模拟器\n",
    "    sio.emit(\"steer\",data={\n",
    "        'steering_angle':angle.__str__(),\n",
    "        'throttle': throttle.__str__()\n",
    "    })\n",
    "    \n",
    "\n",
    "if __name__=='__main__':\n",
    "    # 把web服务器和socketio绑定在一起\n",
    "    app = socketio.Middleware(sio,app)\n",
    "    # 监听socket的事件\n",
    "    eventlet.wsgi.server(eventlet.listen(('',4567)),app)"
   ]
  },
  {
   "cell_type": "code",
   "execution_count": null,
   "metadata": {},
   "outputs": [],
   "source": []
  }
 ],
 "metadata": {
  "kernelspec": {
   "display_name": "Python 3",
   "language": "python",
   "name": "python3"
  },
  "language_info": {
   "codemirror_mode": {
    "name": "ipython",
    "version": 3
   },
   "file_extension": ".py",
   "mimetype": "text/x-python",
   "name": "python",
   "nbconvert_exporter": "python",
   "pygments_lexer": "ipython3",
   "version": "3.7.9"
  }
 },
 "nbformat": 4,
 "nbformat_minor": 4
}
