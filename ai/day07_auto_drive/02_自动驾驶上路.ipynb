{
 "cells": [
  {
   "cell_type": "code",
   "execution_count": null,
   "metadata": {},
   "outputs": [],
   "source": [
    "#安装python开发web程序的依赖\n",
    "!conda install flask"
   ]
  },
  {
   "cell_type": "code",
   "execution_count": null,
   "metadata": {},
   "outputs": [],
   "source": [
    "from flask import Flask\n",
    "# 创建一个网页\n",
    "app = Flask(__name__)\n",
    "\n",
    "@app.route(\"/aaaa\")\n",
    "def gaga():\n",
    "    return '<h1>静夜思</h1> <h2 style=\"color:blue\" >床前明月光</h2> <h2>疑是地上霜</h2>'\n",
    "\n",
    "@app.route(\"/bbbb\")\n",
    "def haha():\n",
    "    return \"haha\"\n",
    "\n",
    "if __name__ == '__main__':\n",
    "    app.run(port=80)"
   ]
  },
  {
   "cell_type": "markdown",
   "metadata": {},
   "source": [
    "## websoket "
   ]
  },
  {
   "cell_type": "code",
   "execution_count": null,
   "metadata": {},
   "outputs": [],
   "source": [
    "##  socketio eventlet socket通讯需要的依赖\n",
    "## conda install -c conda-forge python-socketio\n",
    "## conda install -c conda-forge eventlet"
   ]
  },
  {
   "cell_type": "code",
   "execution_count": null,
   "metadata": {},
   "outputs": [],
   "source": [
    "import eventlet\n",
    "import socketio\n",
    "from flask import Flask\n",
    "\n",
    "sio = socketio.Server()  ## 创建socketio的服务器\n",
    "app = Flask(__name__)\n",
    "\n",
    "@sio.on('connect')\n",
    "def connect(sid,env):\n",
    "    print(\"websocket链接建立了\")\n",
    "    sio.emit(\"steer\",data={\n",
    "        'steering_angle':'0',\n",
    "        'throttle':'1'\n",
    "    })\n",
    "\n",
    "if __name__=='__main__':\n",
    "    # 把web服务器和socketio绑定在一起。\n",
    "    app = socketio.Middleware(sio,app)\n",
    "    ## 监听socket的事件了\n",
    "    eventlet.wsgi.server(eventlet.listen(('',4567)),app)\n"
   ]
  },
  {
   "cell_type": "code",
   "execution_count": null,
   "metadata": {},
   "outputs": [],
   "source": [
    "## 包装方法\n",
    "## 图片预处理的逻辑，接受参数图片的路径\n",
    "def img_preprocess(src_image):\n",
    "   \n",
    "    img = src_image[60:135,:,:]\n",
    "    img = cv2.GaussianBlur(img,(3,3),1)\n",
    "    img = cv2.resize(img,(200,66))\n",
    "    img = cv2.cvtColor(img,cv2.COLOR_RGB2YUV)\n",
    "    return img\n",
    "\n",
    "import tensorflow as tf\n",
    "save_model = tf.keras.models.load_model('hahaha.h5')\n",
    "## 从模拟器汽车的摄像头里面读到数据， 基于图像输入，使用cnn训练好的模型，预测方向盘的角度。\n",
    "\n",
    "import eventlet\n",
    "import socketio\n",
    "from flask import Flask\n",
    "from io import BytesIO\n",
    "from PIL import Image\n",
    "import cv2\n",
    "import base64\n",
    "import numpy as np\n",
    "\n",
    "sio = socketio.Server()  ## 创建socketio的服务器\n",
    "app = Flask(__name__)\n",
    "\n",
    "speed_limit = 8\n",
    "\n",
    "@sio.on('connect')\n",
    "def connect(sid,env):\n",
    "    print(\"websocket链接建立了\")\n",
    "#     sio.emit(\"steer\",data={\n",
    "#         'steering_angle':'0',\n",
    "#         'throttle':'0.0'\n",
    "#     })\n",
    "\n",
    "\n",
    "def send_control(angle,throttle):\n",
    "    sio.emit(\"steer\",data={\n",
    "        'steering_angle':angle.__str__(),\n",
    "        'throttle':throttle.__str__()\n",
    "    })\n",
    "\n",
    "    \n",
    "@sio.on('telemetry')\n",
    "def telemetry(sid,data):\n",
    "    image = Image.open(BytesIO(base64.b64decode(data['image'])))\n",
    "    image = np.asarray(image)\n",
    "    cv2.imshow(\"info\",image)\n",
    "    cv2.waitKey(10)\n",
    "    \n",
    "    #预测\n",
    "    image = img_preprocess(image)\n",
    "    image = image / 255.0\n",
    "    angel = save_model.predict(image.reshape(1,66,200,3))[0][0]\n",
    "    \n",
    "    ##当前的车速\n",
    "    speed = float(data['speed'])\n",
    "    throttle = 1.0 - speed / speed_limit\n",
    "    \n",
    "    send_control(angel,throttle)\n",
    "    \n",
    "if __name__=='__main__':\n",
    "    # 把web服务器和socketio绑定在一起。\n",
    "    app = socketio.Middleware(sio,app)\n",
    "    ## 监听socket的事件了\n",
    "    eventlet.wsgi.server(eventlet.listen(('',4567)),app)\n"
   ]
  },
  {
   "cell_type": "code",
   "execution_count": null,
   "metadata": {},
   "outputs": [],
   "source": []
  }
 ],
 "metadata": {
  "kernelspec": {
   "display_name": "Python 3",
   "language": "python",
   "name": "python3"
  },
  "language_info": {
   "codemirror_mode": {
    "name": "ipython",
    "version": 3
   },
   "file_extension": ".py",
   "mimetype": "text/x-python",
   "name": "python",
   "nbconvert_exporter": "python",
   "pygments_lexer": "ipython3",
   "version": "3.7.9"
  }
 },
 "nbformat": 4,
 "nbformat_minor": 4
}
