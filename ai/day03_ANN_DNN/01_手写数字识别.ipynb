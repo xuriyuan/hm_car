{
 "cells": [
  {
   "cell_type": "markdown",
   "metadata": {},
   "source": [
    "## 读取图片的输入（灰度图，数组文件）"
   ]
  },
  {
   "cell_type": "code",
   "execution_count": 1,
   "metadata": {
    "scrolled": true
   },
   "outputs": [
    {
     "data": {
      "text/plain": [
       "array([7, 2, 1, ..., 4, 5, 6])"
      ]
     },
     "execution_count": 1,
     "metadata": {},
     "output_type": "execute_result"
    }
   ],
   "source": [
    "import numpy as np\n",
    "X = np.loadtxt('test_image.csv',delimiter=',')\n",
    "y = np.loadtxt('test_label.csv',delimiter=',').astype(int)\n",
    "y"
   ]
  },
  {
   "cell_type": "code",
   "execution_count": 2,
   "metadata": {},
   "outputs": [
    {
     "data": {
      "text/plain": [
       "array([[0., 0., 0., ..., 1., 0., 0.],\n",
       "       [0., 0., 1., ..., 0., 0., 0.],\n",
       "       [0., 1., 0., ..., 0., 0., 0.],\n",
       "       ...,\n",
       "       [0., 0., 0., ..., 0., 0., 0.],\n",
       "       [0., 0., 0., ..., 0., 0., 0.],\n",
       "       [0., 0., 0., ..., 0., 0., 0.]])"
      ]
     },
     "execution_count": 2,
     "metadata": {},
     "output_type": "execute_result"
    }
   ],
   "source": [
    "Y = np.eye(10)[y]\n",
    "Y"
   ]
  },
  {
   "cell_type": "code",
   "execution_count": 3,
   "metadata": {},
   "outputs": [
    {
     "data": {
      "text/plain": [
       "<matplotlib.image.AxesImage at 0x19e0072a588>"
      ]
     },
     "execution_count": 3,
     "metadata": {},
     "output_type": "execute_result"
    },
    {
     "data": {
      "image/png": "[encoded data removed]",
      "text/plain": [
       "<Figure size 432x288 with 1 Axes>"
      ]
     },
     "metadata": {
      "needs_background": "light"
     },
     "output_type": "display_data"
    }
   ],
   "source": [
    "## 数据可视化\n",
    "import matplotlib.pyplot as plt\n",
    "plt.imshow(X[-3].reshape(28,28))"
   ]
  },
  {
   "cell_type": "markdown",
   "metadata": {},
   "source": [
    "## 自己如何去做数据？"
   ]
  },
  {
   "cell_type": "markdown",
   "metadata": {},
   "source": [
    "1. 手写数字\n",
    "2. 拍照\n",
    "3. opencv把图像缩放到28x28\n",
    "4. opencv把图像转换成灰度图，0~255数值，存储起来\n",
    "5. 打标签\n",
    "6. 重复1万次"
   ]
  },
  {
   "cell_type": "markdown",
   "metadata": {},
   "source": [
    "## 准备交给tensorflow框架训练"
   ]
  },
  {
   "cell_type": "code",
   "execution_count": 4,
   "metadata": {},
   "outputs": [],
   "source": [
    "## 导包\n",
    "from tensorflow.keras.models import Sequential\n",
    "from tensorflow.keras.layers import Dense,Activation\n",
    "import numpy as np"
   ]
  },
  {
   "cell_type": "code",
   "execution_count": 5,
   "metadata": {},
   "outputs": [
    {
     "name": "stdout",
     "output_type": "stream",
     "text": [
      "Model: \"sequential\"\n",
      "_________________________________________________________________\n",
      "Layer (type)                 Output Shape              Param #   \n",
      "=================================================================\n",
      "dense (Dense)                (None, 10)                7850      \n",
      "_________________________________________________________________\n",
      "activation (Activation)      (None, 10)                0         \n",
      "=================================================================\n",
      "Total params: 7,850\n",
      "Trainable params: 7,850\n",
      "Non-trainable params: 0\n",
      "_________________________________________________________________\n"
     ]
    }
   ],
   "source": [
    "## 创建模型，指定输入和输出，指定激活函数\n",
    "model = Sequential()\n",
    "model.add(Dense(10,input_shape=(784,)))\n",
    "model.add(Activation('softmax'))\n",
    "model.summary()"
   ]
  },
  {
   "cell_type": "code",
   "execution_count": 6,
   "metadata": {},
   "outputs": [],
   "source": [
    "## 编译模型，指定模型的训练参数\n",
    "model.compile(optimizer='adam',loss=\"categorical_crossentropy\",metrics=['accuracy'])"
   ]
  },
  {
   "cell_type": "code",
   "execution_count": 7,
   "metadata": {},
   "outputs": [
    {
     "name": "stdout",
     "output_type": "stream",
     "text": [
      "Epoch 1/15\n",
      "79/79 [==============================] - 0s 1ms/step - loss: 41.5580 - accuracy: 0.5799\n",
      "Epoch 2/15\n",
      "79/79 [==============================] - 0s 1ms/step - loss: 8.9088 - accuracy: 0.8321\n",
      "Epoch 3/15\n",
      "79/79 [==============================] - 0s 1ms/step - loss: 6.4719 - accuracy: 0.8653\n",
      "Epoch 4/15\n",
      "79/79 [==============================] - 0s 1ms/step - loss: 5.2866 - accuracy: 0.8814\n",
      "Epoch 5/15\n",
      "79/79 [==============================] - 0s 1ms/step - loss: 4.5237 - accuracy: 0.8902\n",
      "Epoch 6/15\n",
      "79/79 [==============================] - 0s 1ms/step - loss: 3.9447 - accuracy: 0.8960\n",
      "Epoch 7/15\n",
      "79/79 [==============================] - 0s 2ms/step - loss: 3.5487 - accuracy: 0.8984\n",
      "Epoch 8/15\n",
      "79/79 [==============================] - 0s 1ms/step - loss: 3.1715 - accuracy: 0.9064\n",
      "Epoch 9/15\n",
      "79/79 [==============================] - 0s 1ms/step - loss: 2.7846 - accuracy: 0.9123\n",
      "Epoch 10/15\n",
      "79/79 [==============================] - 0s 1ms/step - loss: 2.6120 - accuracy: 0.9107\n",
      "Epoch 11/15\n",
      "79/79 [==============================] - 0s 1ms/step - loss: 2.3926 - accuracy: 0.9171\n",
      "Epoch 12/15\n",
      "79/79 [==============================] - 0s 1ms/step - loss: 2.1258 - accuracy: 0.9205\n",
      "Epoch 13/15\n",
      "79/79 [==============================] - 0s 1ms/step - loss: 2.0739 - accuracy: 0.9197\n",
      "Epoch 14/15\n",
      "79/79 [==============================] - 0s 1ms/step - loss: 1.9026 - accuracy: 0.9228\n",
      "Epoch 15/15\n",
      "79/79 [==============================] - 0s 2ms/step - loss: 2.2210 - accuracy: 0.9140\n"
     ]
    },
    {
     "data": {
      "text/plain": [
       "<tensorflow.python.keras.callbacks.History at 0x19e04be9248>"
      ]
     },
     "execution_count": 7,
     "metadata": {},
     "output_type": "execute_result"
    }
   ],
   "source": [
    "## 训练模型\n",
    "model.fit(X,Y,epochs=15,batch_size=128)"
   ]
  },
  {
   "cell_type": "code",
   "execution_count": 8,
   "metadata": {},
   "outputs": [
    {
     "data": {
      "text/plain": [
       "array([[0., 0., 0., 0., 0., 0., 0., 1., 0., 0.]], dtype=float32)"
      ]
     },
     "execution_count": 8,
     "metadata": {},
     "output_type": "execute_result"
    }
   ],
   "source": [
    "model.predict(X[0].reshape(1,784))"
   ]
  },
  {
   "cell_type": "code",
   "execution_count": 15,
   "metadata": {},
   "outputs": [
    {
     "data": {
      "text/plain": [
       "3"
      ]
     },
     "execution_count": 15,
     "metadata": {},
     "output_type": "execute_result"
    },
    {
     "data": {
      "image/png": "[encoded data removed]",
      "text/plain": [
       "<Figure size 432x288 with 1 Axes>"
      ]
     },
     "metadata": {
      "needs_background": "light"
     },
     "output_type": "display_data"
    }
   ],
   "source": [
    "index = np.random.randint(10000)\n",
    "plt.imshow(X[index].reshape(28,28))\n",
    "np.argmax(model.predict(X[index].reshape(1,784)))"
   ]
  },
  {
   "cell_type": "markdown",
   "metadata": {},
   "source": [
    "## 创建一个新的网络模型（更复杂）"
   ]
  },
  {
   "cell_type": "code",
   "execution_count": 16,
   "metadata": {},
   "outputs": [
    {
     "name": "stdout",
     "output_type": "stream",
     "text": [
      "Model: \"sequential_1\"\n",
      "_________________________________________________________________\n",
      "Layer (type)                 Output Shape              Param #   \n",
      "=================================================================\n",
      "dense_1 (Dense)              (None, 30)                23550     \n",
      "_________________________________________________________________\n",
      "activation_1 (Activation)    (None, 30)                0         \n",
      "_________________________________________________________________\n",
      "dense_2 (Dense)              (None, 10)                310       \n",
      "_________________________________________________________________\n",
      "activation_2 (Activation)    (None, 10)                0         \n",
      "=================================================================\n",
      "Total params: 23,860\n",
      "Trainable params: 23,860\n",
      "Non-trainable params: 0\n",
      "_________________________________________________________________\n"
     ]
    }
   ],
   "source": [
    "## 创建模型，指定输入和输出，指定激活函数\n",
    "model = Sequential()\n",
    "model.add(Dense(30,input_shape=(784,)))\n",
    "model.add(Activation('relu'))\n",
    "model.add(Dense(10))\n",
    "model.add(Activation('softmax'))\n",
    "model.summary()"
   ]
  },
  {
   "cell_type": "code",
   "execution_count": 17,
   "metadata": {},
   "outputs": [],
   "source": [
    "## 编译模型，指定模型的训练参数\n",
    "model.compile(optimizer='adam',loss=\"categorical_crossentropy\",metrics=['accuracy'])"
   ]
  },
  {
   "cell_type": "code",
   "execution_count": 19,
   "metadata": {},
   "outputs": [
    {
     "name": "stdout",
     "output_type": "stream",
     "text": [
      "Epoch 1/100\n",
      "79/79 [==============================] - 0s 1ms/step - loss: 0.5030 - accuracy: 0.8416\n",
      "Epoch 2/100\n",
      "79/79 [==============================] - 0s 1ms/step - loss: 0.4785 - accuracy: 0.8471\n",
      "Epoch 3/100\n",
      "79/79 [==============================] - 0s 1ms/step - loss: 0.4525 - accuracy: 0.8554\n",
      "Epoch 4/100\n",
      "79/79 [==============================] - 0s 1ms/step - loss: 0.4234 - accuracy: 0.8649\n",
      "Epoch 5/100\n",
      "79/79 [==============================] - 0s 1ms/step - loss: 0.4244 - accuracy: 0.8639\n",
      "Epoch 6/100\n",
      "79/79 [==============================] - 0s 1ms/step - loss: 0.3966 - accuracy: 0.8763\n",
      "Epoch 7/100\n",
      "79/79 [==============================] - 0s 1ms/step - loss: 0.3809 - accuracy: 0.8738\n",
      "Epoch 8/100\n",
      "79/79 [==============================] - 0s 1ms/step - loss: 0.3624 - accuracy: 0.8855\n",
      "Epoch 9/100\n",
      "79/79 [==============================] - 0s 1ms/step - loss: 0.3527 - accuracy: 0.8864\n",
      "Epoch 10/100\n",
      "79/79 [==============================] - 0s 1ms/step - loss: 0.3337 - accuracy: 0.8906\n",
      "Epoch 11/100\n",
      "79/79 [==============================] - 0s 1ms/step - loss: 0.3187 - accuracy: 0.8944\n",
      "Epoch 12/100\n",
      "79/79 [==============================] - 0s 1ms/step - loss: 0.3081 - accuracy: 0.8973\n",
      "Epoch 13/100\n",
      "79/79 [==============================] - 0s 1ms/step - loss: 0.2972 - accuracy: 0.9047\n",
      "Epoch 14/100\n",
      "79/79 [==============================] - 0s 1ms/step - loss: 0.2865 - accuracy: 0.9043\n",
      "Epoch 15/100\n",
      "79/79 [==============================] - 0s 1ms/step - loss: 0.2689 - accuracy: 0.9083\n",
      "Epoch 16/100\n",
      "79/79 [==============================] - 0s 1ms/step - loss: 0.2695 - accuracy: 0.9087\n",
      "Epoch 17/100\n",
      "79/79 [==============================] - 0s 1ms/step - loss: 0.2682 - accuracy: 0.9080\n",
      "Epoch 18/100\n",
      "79/79 [==============================] - 0s 1ms/step - loss: 0.2578 - accuracy: 0.9126\n",
      "Epoch 19/100\n",
      "79/79 [==============================] - 0s 1ms/step - loss: 0.2566 - accuracy: 0.9122\n",
      "Epoch 20/100\n",
      "79/79 [==============================] - 0s 2ms/step - loss: 0.2448 - accuracy: 0.9168\n",
      "Epoch 21/100\n",
      "79/79 [==============================] - 0s 2ms/step - loss: 0.2320 - accuracy: 0.9218\n",
      "Epoch 22/100\n",
      "79/79 [==============================] - 0s 1ms/step - loss: 0.2237 - accuracy: 0.9251\n",
      "Epoch 23/100\n",
      "79/79 [==============================] - 0s 1ms/step - loss: 0.2172 - accuracy: 0.9275\n",
      "Epoch 24/100\n",
      "79/79 [==============================] - 0s 1ms/step - loss: 0.2145 - accuracy: 0.9276\n",
      "Epoch 25/100\n",
      "79/79 [==============================] - 0s 1ms/step - loss: 0.2141 - accuracy: 0.9290\n",
      "Epoch 26/100\n",
      "79/79 [==============================] - 0s 1ms/step - loss: 0.2078 - accuracy: 0.9311\n",
      "Epoch 27/100\n",
      "79/79 [==============================] - 0s 2ms/step - loss: 0.2254 - accuracy: 0.9291\n",
      "Epoch 28/100\n",
      "79/79 [==============================] - 0s 1ms/step - loss: 0.2098 - accuracy: 0.9314\n",
      "Epoch 29/100\n",
      "79/79 [==============================] - 0s 1ms/step - loss: 0.2063 - accuracy: 0.9314\n",
      "Epoch 30/100\n",
      "79/79 [==============================] - 0s 1ms/step - loss: 0.1940 - accuracy: 0.9373\n",
      "Epoch 31/100\n",
      "79/79 [==============================] - 0s 1ms/step - loss: 0.1783 - accuracy: 0.9397\n",
      "Epoch 32/100\n",
      "79/79 [==============================] - 0s 1ms/step - loss: 0.1837 - accuracy: 0.9387\n",
      "Epoch 33/100\n",
      "79/79 [==============================] - 0s 1ms/step - loss: 0.1858 - accuracy: 0.9387\n",
      "Epoch 34/100\n",
      "79/79 [==============================] - 0s 1ms/step - loss: 0.2009 - accuracy: 0.9365\n",
      "Epoch 35/100\n",
      "79/79 [==============================] - 0s 1ms/step - loss: 0.1906 - accuracy: 0.9393\n",
      "Epoch 36/100\n",
      "79/79 [==============================] - 0s 1ms/step - loss: 0.1843 - accuracy: 0.9399\n",
      "Epoch 37/100\n",
      "79/79 [==============================] - 0s 1ms/step - loss: 0.1911 - accuracy: 0.9400\n",
      "Epoch 38/100\n",
      "79/79 [==============================] - 0s 2ms/step - loss: 0.1735 - accuracy: 0.9418\n",
      "Epoch 39/100\n",
      "79/79 [==============================] - 0s 1ms/step - loss: 0.1676 - accuracy: 0.9438\n",
      "Epoch 40/100\n",
      "79/79 [==============================] - 0s 2ms/step - loss: 0.1854 - accuracy: 0.9431\n",
      "Epoch 41/100\n",
      "79/79 [==============================] - 0s 2ms/step - loss: 0.1586 - accuracy: 0.9474\n",
      "Epoch 42/100\n",
      "79/79 [==============================] - 0s 2ms/step - loss: 0.1602 - accuracy: 0.9480\n",
      "Epoch 43/100\n",
      "79/79 [==============================] - 0s 2ms/step - loss: 0.1548 - accuracy: 0.9494\n",
      "Epoch 44/100\n",
      "79/79 [==============================] - 0s 2ms/step - loss: 0.1634 - accuracy: 0.9449\n",
      "Epoch 45/100\n",
      "79/79 [==============================] - 0s 1ms/step - loss: 0.1720 - accuracy: 0.9450\n",
      "Epoch 46/100\n",
      "79/79 [==============================] - 0s 1ms/step - loss: 0.1550 - accuracy: 0.9498\n",
      "Epoch 47/100\n",
      "79/79 [==============================] - 0s 1ms/step - loss: 0.1601 - accuracy: 0.9476\n",
      "Epoch 48/100\n",
      "79/79 [==============================] - 0s 2ms/step - loss: 0.1447 - accuracy: 0.9514\n",
      "Epoch 49/100\n",
      "79/79 [==============================] - 0s 2ms/step - loss: 0.1450 - accuracy: 0.9546\n",
      "Epoch 50/100\n",
      "79/79 [==============================] - 0s 2ms/step - loss: 0.1353 - accuracy: 0.9566\n",
      "Epoch 51/100\n",
      "79/79 [==============================] - 0s 2ms/step - loss: 0.1342 - accuracy: 0.9576\n",
      "Epoch 52/100\n",
      "79/79 [==============================] - 0s 2ms/step - loss: 0.1530 - accuracy: 0.9509\n",
      "Epoch 53/100\n",
      "79/79 [==============================] - 0s 2ms/step - loss: 0.1335 - accuracy: 0.9551\n",
      "Epoch 54/100\n",
      "79/79 [==============================] - 0s 2ms/step - loss: 0.1227 - accuracy: 0.9582\n",
      "Epoch 55/100\n",
      "79/79 [==============================] - 0s 2ms/step - loss: 0.1360 - accuracy: 0.9555\n",
      "Epoch 56/100\n",
      "79/79 [==============================] - 0s 1ms/step - loss: 0.1573 - accuracy: 0.9512\n",
      "Epoch 57/100\n",
      "79/79 [==============================] - 0s 1ms/step - loss: 0.1475 - accuracy: 0.9516\n",
      "Epoch 58/100\n",
      "79/79 [==============================] - 0s 1ms/step - loss: 0.1630 - accuracy: 0.9515\n",
      "Epoch 59/100\n",
      "79/79 [==============================] - 0s 1ms/step - loss: 0.1304 - accuracy: 0.9566\n",
      "Epoch 60/100\n",
      "79/79 [==============================] - 0s 1ms/step - loss: 0.1366 - accuracy: 0.9562\n",
      "Epoch 61/100\n",
      "79/79 [==============================] - 0s 1ms/step - loss: 0.1586 - accuracy: 0.9525\n",
      "Epoch 62/100\n",
      "79/79 [==============================] - 0s 1ms/step - loss: 0.1298 - accuracy: 0.9586\n",
      "Epoch 63/100\n",
      "79/79 [==============================] - 0s 1ms/step - loss: 0.1308 - accuracy: 0.9585\n",
      "Epoch 64/100\n",
      "79/79 [==============================] - 0s 1ms/step - loss: 0.1148 - accuracy: 0.9617\n",
      "Epoch 65/100\n",
      "79/79 [==============================] - 0s 1ms/step - loss: 0.1153 - accuracy: 0.9624\n",
      "Epoch 66/100\n",
      "79/79 [==============================] - 0s 1ms/step - loss: 0.1268 - accuracy: 0.9579\n",
      "Epoch 67/100\n",
      "79/79 [==============================] - 0s 1ms/step - loss: 0.1058 - accuracy: 0.9631\n",
      "Epoch 68/100\n",
      "79/79 [==============================] - 0s 2ms/step - loss: 0.1188 - accuracy: 0.9593\n",
      "Epoch 69/100\n",
      "79/79 [==============================] - 0s 1ms/step - loss: 0.1134 - accuracy: 0.9633\n",
      "Epoch 70/100\n",
      "79/79 [==============================] - ETA: 0s - loss: 0.0989 - accuracy: 0.96 - 0s 1ms/step - loss: 0.0997 - accuracy: 0.9651\n",
      "Epoch 71/100\n",
      "79/79 [==============================] - 0s 1ms/step - loss: 0.0958 - accuracy: 0.9668\n",
      "Epoch 72/100\n",
      "79/79 [==============================] - 0s 1ms/step - loss: 0.0990 - accuracy: 0.9671\n",
      "Epoch 73/100\n",
      "79/79 [==============================] - 0s 1ms/step - loss: 0.1250 - accuracy: 0.9603\n",
      "Epoch 74/100\n",
      "79/79 [==============================] - 0s 1ms/step - loss: 0.1372 - accuracy: 0.9574\n",
      "Epoch 75/100\n",
      "79/79 [==============================] - 0s 2ms/step - loss: 0.1444 - accuracy: 0.9567\n",
      "Epoch 76/100\n",
      "79/79 [==============================] - 0s 2ms/step - loss: 0.1176 - accuracy: 0.9639\n",
      "Epoch 77/100\n",
      "79/79 [==============================] - 0s 2ms/step - loss: 0.1228 - accuracy: 0.9615\n",
      "Epoch 78/100\n",
      "79/79 [==============================] - 0s 1ms/step - loss: 0.1101 - accuracy: 0.9656\n",
      "Epoch 79/100\n",
      "79/79 [==============================] - 0s 1ms/step - loss: 0.1274 - accuracy: 0.9615\n",
      "Epoch 80/100\n",
      "79/79 [==============================] - 0s 1ms/step - loss: 0.1183 - accuracy: 0.9649\n",
      "Epoch 81/100\n",
      "79/79 [==============================] - 0s 2ms/step - loss: 0.1136 - accuracy: 0.9632\n",
      "Epoch 82/100\n"
     ]
    },
    {
     "name": "stdout",
     "output_type": "stream",
     "text": [
      "79/79 [==============================] - 0s 2ms/step - loss: 0.1070 - accuracy: 0.9653\n",
      "Epoch 83/100\n",
      "79/79 [==============================] - 0s 1ms/step - loss: 0.0977 - accuracy: 0.9678\n",
      "Epoch 84/100\n",
      "79/79 [==============================] - 0s 1ms/step - loss: 0.0925 - accuracy: 0.9700\n",
      "Epoch 85/100\n",
      "79/79 [==============================] - 0s 1ms/step - loss: 0.0917 - accuracy: 0.9707\n",
      "Epoch 86/100\n",
      "79/79 [==============================] - 0s 1ms/step - loss: 0.1099 - accuracy: 0.9678\n",
      "Epoch 87/100\n",
      "79/79 [==============================] - 0s 1ms/step - loss: 0.1142 - accuracy: 0.9655\n",
      "Epoch 88/100\n",
      "79/79 [==============================] - 0s 1ms/step - loss: 0.1120 - accuracy: 0.9623\n",
      "Epoch 89/100\n",
      "79/79 [==============================] - 0s 1ms/step - loss: 0.0840 - accuracy: 0.9711\n",
      "Epoch 90/100\n",
      "79/79 [==============================] - 0s 2ms/step - loss: 0.0819 - accuracy: 0.9738\n",
      "Epoch 91/100\n",
      "79/79 [==============================] - 0s 1ms/step - loss: 0.1012 - accuracy: 0.9718\n",
      "Epoch 92/100\n",
      "79/79 [==============================] - 0s 1ms/step - loss: 0.0787 - accuracy: 0.9744\n",
      "Epoch 93/100\n",
      "79/79 [==============================] - 0s 1ms/step - loss: 0.1585 - accuracy: 0.9577\n",
      "Epoch 94/100\n",
      "79/79 [==============================] - 0s 1ms/step - loss: 0.1056 - accuracy: 0.9676\n",
      "Epoch 95/100\n",
      "79/79 [==============================] - 0s 1ms/step - loss: 0.0984 - accuracy: 0.9671\n",
      "Epoch 96/100\n",
      "79/79 [==============================] - 0s 1ms/step - loss: 0.0864 - accuracy: 0.9711\n",
      "Epoch 97/100\n",
      "79/79 [==============================] - 0s 1ms/step - loss: 0.0819 - accuracy: 0.9720\n",
      "Epoch 98/100\n",
      "79/79 [==============================] - 0s 2ms/step - loss: 0.0969 - accuracy: 0.9698\n",
      "Epoch 99/100\n",
      "79/79 [==============================] - 0s 1ms/step - loss: 0.0884 - accuracy: 0.9734\n",
      "Epoch 100/100\n",
      "79/79 [==============================] - 0s 1ms/step - loss: 0.0812 - accuracy: 0.9738\n"
     ]
    },
    {
     "data": {
      "text/plain": [
       "<tensorflow.python.keras.callbacks.History at 0x19e0a3a0f08>"
      ]
     },
     "execution_count": 19,
     "metadata": {},
     "output_type": "execute_result"
    }
   ],
   "source": [
    "## 训练模型\n",
    "model.fit(X,Y,epochs=100,batch_size=128)"
   ]
  },
  {
   "cell_type": "code",
   "execution_count": 25,
   "metadata": {},
   "outputs": [
    {
     "data": {
      "text/plain": [
       "6"
      ]
     },
     "execution_count": 25,
     "metadata": {},
     "output_type": "execute_result"
    },
    {
     "data": {
      "image/png": "[encoded data removed]",
      "text/plain": [
       "<Figure size 432x288 with 1 Axes>"
      ]
     },
     "metadata": {
      "needs_background": "light"
     },
     "output_type": "display_data"
    }
   ],
   "source": [
    "index = np.random.randint(10000)\n",
    "plt.imshow(X[index].reshape(28,28))\n",
    "np.argmax(model.predict(X[index].reshape(1,784)))"
   ]
  },
  {
   "cell_type": "code",
   "execution_count": 26,
   "metadata": {},
   "outputs": [
    {
     "name": "stdout",
     "output_type": "stream",
     "text": [
      "Model: \"sequential_2\"\n",
      "_________________________________________________________________\n",
      "Layer (type)                 Output Shape              Param #   \n",
      "=================================================================\n",
      "dense_3 (Dense)              (None, 2500)              1962500   \n",
      "_________________________________________________________________\n",
      "activation_3 (Activation)    (None, 2500)              0         \n",
      "_________________________________________________________________\n",
      "dense_4 (Dense)              (None, 2000)              5002000   \n",
      "_________________________________________________________________\n",
      "activation_4 (Activation)    (None, 2000)              0         \n",
      "_________________________________________________________________\n",
      "dense_5 (Dense)              (None, 1500)              3001500   \n",
      "_________________________________________________________________\n",
      "activation_5 (Activation)    (None, 1500)              0         \n",
      "_________________________________________________________________\n",
      "dense_6 (Dense)              (None, 1000)              1501000   \n",
      "_________________________________________________________________\n",
      "activation_6 (Activation)    (None, 1000)              0         \n",
      "_________________________________________________________________\n",
      "dense_7 (Dense)              (None, 500)               500500    \n",
      "_________________________________________________________________\n",
      "activation_7 (Activation)    (None, 500)               0         \n",
      "_________________________________________________________________\n",
      "dense_8 (Dense)              (None, 10)                5010      \n",
      "_________________________________________________________________\n",
      "activation_8 (Activation)    (None, 10)                0         \n",
      "=================================================================\n",
      "Total params: 11,972,510\n",
      "Trainable params: 11,972,510\n",
      "Non-trainable params: 0\n",
      "_________________________________________________________________\n"
     ]
    }
   ],
   "source": [
    "## 超级复杂的神经网络\n",
    "## 784-2500-2000-1500-1000-500-10\n",
    "model = Sequential()\n",
    "model.add(Dense(2500,input_shape=(784,)))\n",
    "model.add(Activation('relu'))\n",
    "model.add(Dense(2000))\n",
    "model.add(Activation('relu'))\n",
    "model.add(Dense(1500))\n",
    "model.add(Activation('relu'))\n",
    "model.add(Dense(1000))\n",
    "model.add(Activation('relu'))\n",
    "model.add(Dense(500))\n",
    "model.add(Activation('relu'))\n",
    "model.add(Dense(10))\n",
    "model.add(Activation('softmax'))\n",
    "model.summary()"
   ]
  },
  {
   "cell_type": "code",
   "execution_count": 27,
   "metadata": {},
   "outputs": [],
   "source": [
    "## 编译模型，指定模型的训练参数\n",
    "model.compile(optimizer='adam',loss=\"categorical_crossentropy\",metrics=['accuracy'])"
   ]
  },
  {
   "cell_type": "code",
   "execution_count": 29,
   "metadata": {},
   "outputs": [
    {
     "name": "stdout",
     "output_type": "stream",
     "text": [
      "Epoch 1/10\n",
      "79/79 [==============================] - 9s 110ms/step - loss: 0.1791 - accuracy: 0.9437\n",
      "Epoch 2/10\n",
      "79/79 [==============================] - 9s 111ms/step - loss: 0.1087 - accuracy: 0.9655\n",
      "Epoch 3/10\n",
      "79/79 [==============================] - 9s 109ms/step - loss: 0.0939 - accuracy: 0.9698\n",
      "Epoch 4/10\n",
      "79/79 [==============================] - 9s 110ms/step - loss: 0.0598 - accuracy: 0.9791\n",
      "Epoch 5/10\n",
      "79/79 [==============================] - 9s 113ms/step - loss: 0.0673 - accuracy: 0.9814\n",
      "Epoch 6/10\n",
      "79/79 [==============================] - 9s 116ms/step - loss: 0.0571 - accuracy: 0.9816\n",
      "Epoch 7/10\n",
      "79/79 [==============================] - 9s 115ms/step - loss: 0.0545 - accuracy: 0.9815\n",
      "Epoch 8/10\n",
      "79/79 [==============================] - 9s 114ms/step - loss: 0.0463 - accuracy: 0.9845\n",
      "Epoch 9/10\n",
      "79/79 [==============================] - 9s 114ms/step - loss: 0.0746 - accuracy: 0.9785\n",
      "Epoch 10/10\n",
      "79/79 [==============================] - 9s 111ms/step - loss: 0.0415 - accuracy: 0.9876\n"
     ]
    },
    {
     "data": {
      "text/plain": [
       "<tensorflow.python.keras.callbacks.History at 0x19e053a6588>"
      ]
     },
     "execution_count": 29,
     "metadata": {},
     "output_type": "execute_result"
    }
   ],
   "source": [
    "## 训练模型\n",
    "model.fit(X,Y,epochs=10,batch_size=128)"
   ]
  },
  {
   "cell_type": "markdown",
   "metadata": {},
   "source": [
    "## 概念总结"
   ]
  },
  {
   "cell_type": "markdown",
   "metadata": {},
   "source": [
    "多个感知机组合生成神经网络，\n",
    "ANN (神经网络)\n",
    "DNN (深度神经网络)\n",
    "CNN (卷积神经网络)"
   ]
  },
  {
   "cell_type": "code",
   "execution_count": null,
   "metadata": {},
   "outputs": [],
   "source": []
  }
 ],
 "metadata": {
  "kernelspec": {
   "display_name": "Python 3",
   "language": "python",
   "name": "python3"
  },
  "language_info": {
   "codemirror_mode": {
    "name": "ipython",
    "version": 3
   },
   "file_extension": ".py",
   "mimetype": "text/x-python",
   "name": "python",
   "nbconvert_exporter": "python",
   "pygments_lexer": "ipython3",
   "version": "3.7.9"
  }
 },
 "nbformat": 4,
 "nbformat_minor": 4
}
