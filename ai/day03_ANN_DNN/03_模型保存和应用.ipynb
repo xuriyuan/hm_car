{
 "cells": [
  {
   "cell_type": "markdown",
   "metadata": {},
   "source": [
    "# 机器学习的步骤\n",
    "* 模型训练\n",
    "* 模型评估\n",
    "* 模型保存\n",
    "* 模型应用"
   ]
  },
  {
   "cell_type": "code",
   "execution_count": 1,
   "metadata": {},
   "outputs": [
    {
     "name": "stdout",
     "output_type": "stream",
     "text": [
      "Model: \"sequential\"\n",
      "_________________________________________________________________\n",
      "Layer (type)                 Output Shape              Param #   \n",
      "=================================================================\n",
      "dense (Dense)                (None, 30)                23550     \n",
      "_________________________________________________________________\n",
      "activation (Activation)      (None, 30)                0         \n",
      "_________________________________________________________________\n",
      "dense_1 (Dense)              (None, 10)                310       \n",
      "_________________________________________________________________\n",
      "activation_1 (Activation)    (None, 10)                0         \n",
      "=================================================================\n",
      "Total params: 23,860\n",
      "Trainable params: 23,860\n",
      "Non-trainable params: 0\n",
      "_________________________________________________________________\n",
      "Epoch 1/100\n",
      "63/63 [==============================] - 0s 3ms/step - loss: 23.9345 - accuracy: 0.3007 - val_loss: 2.3168 - val_accuracy: 0.2725\n",
      "Epoch 2/100\n",
      "63/63 [==============================] - 0s 1ms/step - loss: 2.2275 - accuracy: 0.2675 - val_loss: 2.0229 - val_accuracy: 0.2975\n",
      "Epoch 3/100\n",
      "63/63 [==============================] - 0s 1ms/step - loss: 1.9335 - accuracy: 0.3645 - val_loss: 1.8439 - val_accuracy: 0.3970\n",
      "Epoch 4/100\n",
      "63/63 [==============================] - 0s 2ms/step - loss: 1.7538 - accuracy: 0.4149 - val_loss: 1.7135 - val_accuracy: 0.4325\n",
      "Epoch 5/100\n",
      "63/63 [==============================] - 0s 2ms/step - loss: 1.6019 - accuracy: 0.4454 - val_loss: 1.6296 - val_accuracy: 0.4490\n",
      "Epoch 6/100\n",
      "63/63 [==============================] - 0s 2ms/step - loss: 1.4874 - accuracy: 0.4940 - val_loss: 1.5479 - val_accuracy: 0.5175\n",
      "Epoch 7/100\n",
      "63/63 [==============================] - 0s 2ms/step - loss: 1.3666 - accuracy: 0.5397 - val_loss: 1.4573 - val_accuracy: 0.5695\n",
      "Epoch 8/100\n",
      "63/63 [==============================] - 0s 2ms/step - loss: 1.2534 - accuracy: 0.5929 - val_loss: 1.3759 - val_accuracy: 0.5900\n",
      "Epoch 9/100\n",
      "63/63 [==============================] - 0s 2ms/step - loss: 1.1518 - accuracy: 0.6170 - val_loss: 1.3912 - val_accuracy: 0.6385\n",
      "Epoch 10/100\n",
      "63/63 [==============================] - 0s 2ms/step - loss: 1.0817 - accuracy: 0.6484 - val_loss: 1.2902 - val_accuracy: 0.6515\n",
      "Epoch 11/100\n",
      "63/63 [==============================] - 0s 2ms/step - loss: 0.9989 - accuracy: 0.6730 - val_loss: 1.3060 - val_accuracy: 0.6745\n",
      "Epoch 12/100\n",
      "63/63 [==============================] - 0s 2ms/step - loss: 0.9260 - accuracy: 0.6892 - val_loss: 1.1832 - val_accuracy: 0.6750\n",
      "Epoch 13/100\n",
      "63/63 [==============================] - 0s 2ms/step - loss: 0.8475 - accuracy: 0.7015 - val_loss: 1.1131 - val_accuracy: 0.6890\n",
      "Epoch 14/100\n",
      "63/63 [==============================] - 0s 2ms/step - loss: 0.7918 - accuracy: 0.7174 - val_loss: 1.1160 - val_accuracy: 0.7510\n",
      "Epoch 15/100\n",
      "63/63 [==============================] - 0s 2ms/step - loss: 0.7175 - accuracy: 0.7890 - val_loss: 1.0689 - val_accuracy: 0.7660\n",
      "Epoch 16/100\n",
      "63/63 [==============================] - 0s 2ms/step - loss: 0.6621 - accuracy: 0.8040 - val_loss: 1.1346 - val_accuracy: 0.7900\n",
      "Epoch 17/100\n",
      "63/63 [==============================] - 0s 2ms/step - loss: 0.6405 - accuracy: 0.8129 - val_loss: 1.0348 - val_accuracy: 0.7960\n",
      "Epoch 18/100\n",
      "63/63 [==============================] - 0s 2ms/step - loss: 0.6050 - accuracy: 0.8269 - val_loss: 1.0411 - val_accuracy: 0.7945\n",
      "Epoch 19/100\n",
      "63/63 [==============================] - 0s 2ms/step - loss: 0.5967 - accuracy: 0.8275 - val_loss: 1.0023 - val_accuracy: 0.8110\n",
      "Epoch 20/100\n",
      "63/63 [==============================] - 0s 2ms/step - loss: 0.5521 - accuracy: 0.8418 - val_loss: 1.0814 - val_accuracy: 0.7930\n",
      "Epoch 21/100\n",
      "63/63 [==============================] - 0s 2ms/step - loss: 0.5342 - accuracy: 0.8489 - val_loss: 1.0269 - val_accuracy: 0.8370\n",
      "Epoch 22/100\n",
      "63/63 [==============================] - 0s 2ms/step - loss: 0.4946 - accuracy: 0.8611 - val_loss: 1.0086 - val_accuracy: 0.8320\n",
      "Epoch 23/100\n",
      "63/63 [==============================] - 0s 2ms/step - loss: 0.4667 - accuracy: 0.8686 - val_loss: 1.0265 - val_accuracy: 0.8450\n",
      "Epoch 24/100\n",
      "63/63 [==============================] - 0s 2ms/step - loss: 0.4545 - accuracy: 0.8740 - val_loss: 0.9496 - val_accuracy: 0.8425\n",
      "Epoch 25/100\n",
      "63/63 [==============================] - 0s 2ms/step - loss: 0.4515 - accuracy: 0.8749 - val_loss: 0.9518 - val_accuracy: 0.8515\n",
      "Epoch 26/100\n",
      "63/63 [==============================] - 0s 2ms/step - loss: 0.4398 - accuracy: 0.8794 - val_loss: 0.9391 - val_accuracy: 0.8580\n",
      "Epoch 27/100\n",
      "63/63 [==============================] - 0s 2ms/step - loss: 0.4106 - accuracy: 0.8907 - val_loss: 0.9055 - val_accuracy: 0.8465\n",
      "Epoch 28/100\n",
      "63/63 [==============================] - 0s 2ms/step - loss: 0.4163 - accuracy: 0.8884 - val_loss: 0.9582 - val_accuracy: 0.8550\n",
      "Epoch 29/100\n",
      "63/63 [==============================] - 0s 1ms/step - loss: 0.3883 - accuracy: 0.8941 - val_loss: 0.9907 - val_accuracy: 0.8615\n",
      "Epoch 30/100\n",
      "63/63 [==============================] - 0s 1ms/step - loss: 0.3745 - accuracy: 0.8979 - val_loss: 0.9452 - val_accuracy: 0.8690\n",
      "Epoch 31/100\n",
      "63/63 [==============================] - 0s 2ms/step - loss: 0.3774 - accuracy: 0.9006 - val_loss: 0.9374 - val_accuracy: 0.8630\n",
      "Epoch 32/100\n",
      "63/63 [==============================] - 0s 2ms/step - loss: 0.3478 - accuracy: 0.9049 - val_loss: 0.9628 - val_accuracy: 0.8730\n",
      "Epoch 33/100\n",
      "63/63 [==============================] - 0s 2ms/step - loss: 0.3405 - accuracy: 0.9084 - val_loss: 0.9816 - val_accuracy: 0.8745\n",
      "Epoch 34/100\n",
      "63/63 [==============================] - 0s 2ms/step - loss: 0.3277 - accuracy: 0.9131 - val_loss: 0.9841 - val_accuracy: 0.8755\n",
      "Epoch 35/100\n",
      "63/63 [==============================] - 0s 2ms/step - loss: 0.3384 - accuracy: 0.9122 - val_loss: 0.9316 - val_accuracy: 0.8700\n",
      "Epoch 36/100\n",
      "63/63 [==============================] - 0s 2ms/step - loss: 0.3304 - accuracy: 0.9121 - val_loss: 0.8477 - val_accuracy: 0.8780\n",
      "Epoch 37/100\n",
      "63/63 [==============================] - 0s 2ms/step - loss: 0.3085 - accuracy: 0.9176 - val_loss: 0.9032 - val_accuracy: 0.8770\n",
      "Epoch 38/100\n",
      "63/63 [==============================] - 0s 2ms/step - loss: 0.3143 - accuracy: 0.9193 - val_loss: 0.9095 - val_accuracy: 0.8765\n",
      "Epoch 39/100\n",
      "63/63 [==============================] - 0s 2ms/step - loss: 0.3025 - accuracy: 0.9226 - val_loss: 0.8849 - val_accuracy: 0.8865\n",
      "Epoch 40/100\n",
      "63/63 [==============================] - 0s 2ms/step - loss: 0.2872 - accuracy: 0.9224 - val_loss: 0.9636 - val_accuracy: 0.8895\n",
      "Epoch 41/100\n",
      "63/63 [==============================] - 0s 2ms/step - loss: 0.2712 - accuracy: 0.9281 - val_loss: 0.8770 - val_accuracy: 0.8885\n",
      "Epoch 42/100\n",
      "63/63 [==============================] - 0s 1ms/step - loss: 0.2598 - accuracy: 0.9314 - val_loss: 0.9226 - val_accuracy: 0.8855\n",
      "Epoch 43/100\n",
      "63/63 [==============================] - 0s 2ms/step - loss: 0.2450 - accuracy: 0.9358 - val_loss: 0.9511 - val_accuracy: 0.8915\n",
      "Epoch 44/100\n",
      "63/63 [==============================] - 0s 2ms/step - loss: 0.2462 - accuracy: 0.9359 - val_loss: 0.8720 - val_accuracy: 0.8840\n",
      "Epoch 45/100\n",
      "63/63 [==============================] - 0s 2ms/step - loss: 0.2583 - accuracy: 0.9350 - val_loss: 0.9598 - val_accuracy: 0.8850\n",
      "Epoch 46/100\n",
      "63/63 [==============================] - 0s 2ms/step - loss: 0.2338 - accuracy: 0.9373 - val_loss: 0.9499 - val_accuracy: 0.8830\n",
      "Epoch 47/100\n",
      "63/63 [==============================] - 0s 2ms/step - loss: 0.2289 - accuracy: 0.9380 - val_loss: 0.8917 - val_accuracy: 0.8855\n",
      "Epoch 48/100\n",
      "63/63 [==============================] - 0s 2ms/step - loss: 0.2405 - accuracy: 0.9360 - val_loss: 0.9016 - val_accuracy: 0.8910\n",
      "Epoch 49/100\n",
      "63/63 [==============================] - 0s 2ms/step - loss: 0.2386 - accuracy: 0.9377 - val_loss: 0.8434 - val_accuracy: 0.8875\n",
      "Epoch 50/100\n",
      "63/63 [==============================] - 0s 1ms/step - loss: 0.2318 - accuracy: 0.9373 - val_loss: 0.9051 - val_accuracy: 0.8955\n",
      "Epoch 51/100\n",
      "63/63 [==============================] - 0s 2ms/step - loss: 0.2216 - accuracy: 0.9402 - val_loss: 0.9775 - val_accuracy: 0.8915\n",
      "Epoch 52/100\n"
     ]
    },
    {
     "name": "stdout",
     "output_type": "stream",
     "text": [
      "63/63 [==============================] - 0s 1ms/step - loss: 0.2294 - accuracy: 0.9380 - val_loss: 0.9123 - val_accuracy: 0.8965\n",
      "Epoch 53/100\n",
      "63/63 [==============================] - 0s 1ms/step - loss: 0.2099 - accuracy: 0.9425 - val_loss: 0.9337 - val_accuracy: 0.8895\n",
      "Epoch 54/100\n",
      "63/63 [==============================] - 0s 1ms/step - loss: 0.2300 - accuracy: 0.9409 - val_loss: 0.8955 - val_accuracy: 0.8975\n",
      "Epoch 55/100\n",
      "63/63 [==============================] - 0s 2ms/step - loss: 0.2178 - accuracy: 0.9433 - val_loss: 0.9353 - val_accuracy: 0.8960\n",
      "Epoch 56/100\n",
      "63/63 [==============================] - 0s 2ms/step - loss: 0.2146 - accuracy: 0.9430 - val_loss: 0.8998 - val_accuracy: 0.9020\n",
      "Epoch 57/100\n",
      "63/63 [==============================] - 0s 2ms/step - loss: 0.2394 - accuracy: 0.9413 - val_loss: 0.9882 - val_accuracy: 0.8920\n",
      "Epoch 58/100\n",
      "63/63 [==============================] - 0s 1ms/step - loss: 0.2337 - accuracy: 0.9385 - val_loss: 0.9497 - val_accuracy: 0.8995\n",
      "Epoch 59/100\n",
      "63/63 [==============================] - 0s 1ms/step - loss: 0.2200 - accuracy: 0.9420 - val_loss: 0.9366 - val_accuracy: 0.8970\n",
      "Epoch 60/100\n",
      "63/63 [==============================] - 0s 2ms/step - loss: 0.1994 - accuracy: 0.9473 - val_loss: 0.9178 - val_accuracy: 0.9035\n",
      "Epoch 61/100\n",
      "63/63 [==============================] - 0s 1ms/step - loss: 0.1894 - accuracy: 0.9496 - val_loss: 0.8814 - val_accuracy: 0.8950\n",
      "Epoch 62/100\n",
      "63/63 [==============================] - 0s 2ms/step - loss: 0.1853 - accuracy: 0.9515 - val_loss: 0.9036 - val_accuracy: 0.8985\n",
      "Epoch 63/100\n",
      "63/63 [==============================] - 0s 2ms/step - loss: 0.1728 - accuracy: 0.9525 - val_loss: 0.9127 - val_accuracy: 0.9020\n",
      "Epoch 64/100\n",
      "63/63 [==============================] - 0s 2ms/step - loss: 0.1680 - accuracy: 0.9540 - val_loss: 0.9642 - val_accuracy: 0.9035\n",
      "Epoch 65/100\n",
      "63/63 [==============================] - 0s 1ms/step - loss: 0.1762 - accuracy: 0.9549 - val_loss: 0.9179 - val_accuracy: 0.9000\n",
      "Epoch 66/100\n",
      "63/63 [==============================] - 0s 1ms/step - loss: 0.1638 - accuracy: 0.9540 - val_loss: 0.9720 - val_accuracy: 0.9040\n",
      "Epoch 67/100\n",
      "63/63 [==============================] - 0s 2ms/step - loss: 0.1700 - accuracy: 0.9551 - val_loss: 0.9179 - val_accuracy: 0.9050\n",
      "Epoch 68/100\n",
      "63/63 [==============================] - 0s 1ms/step - loss: 0.1924 - accuracy: 0.9505 - val_loss: 0.8523 - val_accuracy: 0.8975\n",
      "Epoch 69/100\n",
      "63/63 [==============================] - 0s 2ms/step - loss: 0.1890 - accuracy: 0.9520 - val_loss: 0.8509 - val_accuracy: 0.8980\n",
      "Epoch 70/100\n",
      "63/63 [==============================] - 0s 2ms/step - loss: 0.1904 - accuracy: 0.9484 - val_loss: 0.9702 - val_accuracy: 0.8970\n",
      "Epoch 71/100\n",
      "63/63 [==============================] - 0s 2ms/step - loss: 0.2039 - accuracy: 0.9504 - val_loss: 0.9711 - val_accuracy: 0.8995\n",
      "Epoch 72/100\n",
      "63/63 [==============================] - 0s 2ms/step - loss: 0.1775 - accuracy: 0.9538 - val_loss: 0.8893 - val_accuracy: 0.8995\n",
      "Epoch 73/100\n",
      "63/63 [==============================] - 0s 1ms/step - loss: 0.1720 - accuracy: 0.9550 - val_loss: 0.9661 - val_accuracy: 0.9110\n",
      "Epoch 74/100\n",
      "63/63 [==============================] - 0s 2ms/step - loss: 0.1729 - accuracy: 0.9549 - val_loss: 0.8441 - val_accuracy: 0.9045\n",
      "Epoch 75/100\n",
      "63/63 [==============================] - 0s 1ms/step - loss: 0.1628 - accuracy: 0.9564 - val_loss: 0.9233 - val_accuracy: 0.8930\n",
      "Epoch 76/100\n",
      "63/63 [==============================] - 0s 1ms/step - loss: 0.1655 - accuracy: 0.9541 - val_loss: 0.8041 - val_accuracy: 0.9040\n",
      "Epoch 77/100\n",
      "63/63 [==============================] - 0s 1ms/step - loss: 0.1569 - accuracy: 0.9565 - val_loss: 0.8908 - val_accuracy: 0.9060\n",
      "Epoch 78/100\n",
      "63/63 [==============================] - 0s 2ms/step - loss: 0.1527 - accuracy: 0.9576 - val_loss: 0.8729 - val_accuracy: 0.9075\n",
      "Epoch 79/100\n",
      "63/63 [==============================] - 0s 2ms/step - loss: 0.1631 - accuracy: 0.9559 - val_loss: 0.8643 - val_accuracy: 0.9060\n",
      "Epoch 80/100\n",
      "63/63 [==============================] - 0s 2ms/step - loss: 0.1361 - accuracy: 0.9616 - val_loss: 0.8743 - val_accuracy: 0.9075\n",
      "Epoch 81/100\n",
      "63/63 [==============================] - 0s 1ms/step - loss: 0.1434 - accuracy: 0.9606 - val_loss: 0.9177 - val_accuracy: 0.9050\n",
      "Epoch 82/100\n",
      "63/63 [==============================] - 0s 1ms/step - loss: 0.1378 - accuracy: 0.9622 - val_loss: 0.8304 - val_accuracy: 0.9095\n",
      "Epoch 83/100\n",
      "63/63 [==============================] - 0s 1ms/step - loss: 0.1449 - accuracy: 0.9595 - val_loss: 0.9490 - val_accuracy: 0.9120\n",
      "Epoch 84/100\n",
      "63/63 [==============================] - 0s 1ms/step - loss: 0.1518 - accuracy: 0.9604 - val_loss: 0.8174 - val_accuracy: 0.9050\n",
      "Epoch 85/100\n",
      "63/63 [==============================] - 0s 2ms/step - loss: 0.1305 - accuracy: 0.9622 - val_loss: 0.8290 - val_accuracy: 0.9105\n",
      "Epoch 86/100\n",
      "63/63 [==============================] - 0s 2ms/step - loss: 0.1230 - accuracy: 0.9639 - val_loss: 0.8380 - val_accuracy: 0.9115\n",
      "Epoch 87/100\n",
      "63/63 [==============================] - 0s 2ms/step - loss: 0.1353 - accuracy: 0.9629 - val_loss: 0.9572 - val_accuracy: 0.9075\n",
      "Epoch 88/100\n",
      "63/63 [==============================] - 0s 2ms/step - loss: 0.1302 - accuracy: 0.9630 - val_loss: 0.8499 - val_accuracy: 0.9110\n",
      "Epoch 89/100\n",
      "63/63 [==============================] - 0s 1ms/step - loss: 0.1351 - accuracy: 0.9638 - val_loss: 0.8856 - val_accuracy: 0.9120\n",
      "Epoch 90/100\n",
      "63/63 [==============================] - 0s 1ms/step - loss: 0.1512 - accuracy: 0.9592 - val_loss: 0.8703 - val_accuracy: 0.9045\n",
      "Epoch 91/100\n",
      "63/63 [==============================] - 0s 1ms/step - loss: 0.1374 - accuracy: 0.9603 - val_loss: 0.9141 - val_accuracy: 0.8980\n",
      "Epoch 92/100\n",
      "63/63 [==============================] - 0s 1ms/step - loss: 0.1218 - accuracy: 0.9639 - val_loss: 0.8149 - val_accuracy: 0.9060\n",
      "Epoch 93/100\n",
      "63/63 [==============================] - 0s 1ms/step - loss: 0.1193 - accuracy: 0.9647 - val_loss: 0.9147 - val_accuracy: 0.9075\n",
      "Epoch 94/100\n",
      "63/63 [==============================] - 0s 1ms/step - loss: 0.1590 - accuracy: 0.9563 - val_loss: 0.9370 - val_accuracy: 0.9055\n",
      "Epoch 95/100\n",
      "63/63 [==============================] - 0s 2ms/step - loss: 0.1591 - accuracy: 0.9578 - val_loss: 0.9938 - val_accuracy: 0.9005\n",
      "Epoch 96/100\n",
      "63/63 [==============================] - 0s 2ms/step - loss: 0.1601 - accuracy: 0.9584 - val_loss: 0.9169 - val_accuracy: 0.9020\n",
      "Epoch 97/100\n",
      "63/63 [==============================] - 0s 1ms/step - loss: 0.1375 - accuracy: 0.9616 - val_loss: 0.8516 - val_accuracy: 0.9080\n",
      "Epoch 98/100\n",
      "63/63 [==============================] - 0s 1ms/step - loss: 0.1277 - accuracy: 0.9630 - val_loss: 0.8454 - val_accuracy: 0.9055\n",
      "Epoch 99/100\n",
      "63/63 [==============================] - 0s 1ms/step - loss: 0.1261 - accuracy: 0.9630 - val_loss: 1.0013 - val_accuracy: 0.8930\n",
      "Epoch 100/100\n",
      "63/63 [==============================] - 0s 1ms/step - loss: 0.1485 - accuracy: 0.9595 - val_loss: 0.9343 - val_accuracy: 0.9100\n"
     ]
    }
   ],
   "source": [
    "import numpy as np\n",
    "## 导包\n",
    "from tensorflow.keras.models import Sequential\n",
    "from tensorflow.keras.layers import Dense,Activation\n",
    "\n",
    "X = np.loadtxt('test_image.csv',delimiter=',')\n",
    "y = np.loadtxt('test_label.csv',delimiter=',').astype(int)\n",
    "Y = np.eye(10)[y]\n",
    "##把数据集拆分成训练集和测试集  80%的数据训练，20%的数据测试\n",
    "from sklearn.model_selection import train_test_split\n",
    "X_train,X_test,y_train,y_test = train_test_split(X,Y,test_size=0.2,random_state=23)\n",
    "\n",
    "model = Sequential()\n",
    "model.add(Dense(30,input_shape=(784,)))\n",
    "model.add(Activation('relu'))\n",
    "model.add(Dense(10))\n",
    "model.add(Activation('softmax'))\n",
    "model.summary()\n",
    "## 编译模型，指定模型的训练参数\n",
    "model.compile(optimizer='adam',loss=\"categorical_crossentropy\",metrics=['accuracy'])\n",
    "\n",
    "## 训练模型\n",
    "data = model.fit(X_train,y_train,epochs=100,batch_size=128,validation_data=(X_test,y_test))\n",
    "\n"
   ]
  },
  {
   "cell_type": "markdown",
   "metadata": {},
   "source": [
    "## 模型的保存"
   ]
  },
  {
   "cell_type": "code",
   "execution_count": 5,
   "metadata": {},
   "outputs": [],
   "source": [
    "model.save('mnist.h5')"
   ]
  },
  {
   "cell_type": "markdown",
   "metadata": {},
   "source": [
    "## 加载模型"
   ]
  },
  {
   "cell_type": "code",
   "execution_count": 6,
   "metadata": {},
   "outputs": [],
   "source": [
    "from tensorflow.keras.models import load_model\n",
    "classifier = load_model('mnist.h5')  # 加载模型文件"
   ]
  },
  {
   "cell_type": "code",
   "execution_count": 28,
   "metadata": {},
   "outputs": [
    {
     "name": "stdout",
     "output_type": "stream",
     "text": [
      "识别的数字为:8\n"
     ]
    },
    {
     "data": {
      "image/png": "[encoded data removed]",
      "text/plain": [
       "<Figure size 432x288 with 1 Axes>"
      ]
     },
     "metadata": {
      "needs_background": "light"
     },
     "output_type": "display_data"
    }
   ],
   "source": [
    "import matplotlib.pyplot as plt\n",
    "np.set_printoptions(suppress=True)\n",
    "# 创建一个1到10000的随机数\n",
    "index = np.random.randint(0,len(X))\n",
    "plt.imshow(X[index].reshape(28,28))\n",
    "\n",
    "number = np.argmax(classifier.predict(X[index].reshape(1,784)))\n",
    "print(\"识别的数字为:{}\".format(number))"
   ]
  },
  {
   "cell_type": "markdown",
   "metadata": {},
   "source": [
    "## 模型评价"
   ]
  },
  {
   "cell_type": "code",
   "execution_count": 50,
   "metadata": {},
   "outputs": [
    {
     "name": "stdout",
     "output_type": "stream",
     "text": [
      "              precision    recall  f1-score   support\n",
      "\n",
      "           0       0.95      0.97      0.96       207\n",
      "           1       0.97      0.98      0.98       237\n",
      "           2       0.94      0.89      0.92       195\n",
      "           3       0.94      0.91      0.92       215\n",
      "           4       0.93      0.88      0.90       188\n",
      "           5       0.92      0.86      0.89       176\n",
      "           6       0.93      0.92      0.93       192\n",
      "           7       0.95      0.89      0.92       190\n",
      "           8       0.76      0.91      0.83       200\n",
      "           9       0.84      0.86      0.85       200\n",
      "\n",
      "    accuracy                           0.91      2000\n",
      "   macro avg       0.91      0.91      0.91      2000\n",
      "weighted avg       0.91      0.91      0.91      2000\n",
      "\n"
     ]
    }
   ],
   "source": [
    "\n",
    "#导包，导入skleran科学计算库的混淆矩阵和报表包\n",
    "from sklearn.metrics import classification_report,confusion_matrix\n",
    "\n",
    "# 预测值\n",
    "y_pred = classifier.predict_classes(X_test)\n",
    "\n",
    "#真实值 \n",
    "real = np.argmax(y_test,axis=1)\n",
    "\n",
    "# 各个维度的精确度的报表\n",
    "print(classification_report(real,y_pred))"
   ]
  },
  {
   "cell_type": "code",
   "execution_count": 51,
   "metadata": {},
   "outputs": [
    {
     "data": {
      "text/plain": [
       "array([[200,   0,   0,   0,   0,   0,   2,   0,   5,   0],\n",
       "       [  0, 233,   1,   0,   0,   0,   1,   0,   0,   2],\n",
       "       [  1,   0, 174,   2,   1,   0,   3,   3,  10,   1],\n",
       "       [  0,   0,   2, 195,   0,   5,   0,   0,  11,   2],\n",
       "       [  0,   0,   1,   0, 165,   2,   4,   2,   3,  11],\n",
       "       [  0,   1,   1,   8,   1, 151,   3,   0,  10,   1],\n",
       "       [  6,   0,   1,   0,   1,   4, 177,   0,   3,   0],\n",
       "       [  0,   2,   3,   0,   0,   0,   0, 170,   6,   9],\n",
       "       [  2,   1,   2,   3,   0,   1,   0,   1, 182,   8],\n",
       "       [  2,   2,   0,   0,   9,   1,   0,   3,  10, 173]], dtype=int64)"
      ]
     },
     "execution_count": 51,
     "metadata": {},
     "output_type": "execute_result"
    }
   ],
   "source": [
    "confusion_matrix(real,y_pred)"
   ]
  },
  {
   "cell_type": "code",
   "execution_count": 55,
   "metadata": {},
   "outputs": [],
   "source": [
    "## 把预测错误的数据都可视化出来\n",
    "error_position = np.nonzero(real - y_pred)[0]"
   ]
  },
  {
   "cell_type": "code",
   "execution_count": 70,
   "metadata": {},
   "outputs": [
    {
     "name": "stdout",
     "output_type": "stream",
     "text": [
      "识别的数字为:2,真是的数字4\n"
     ]
    },
    {
     "data": {
      "image/png": "[encoded data removed]",
      "text/plain": [
       "<Figure size 432x288 with 1 Axes>"
      ]
     },
     "metadata": {
      "needs_background": "light"
     },
     "output_type": "display_data"
    }
   ],
   "source": [
    "error_index = np.random.randint(0,len(error_position))\n",
    "\n",
    "\n",
    "plt.imshow(X_test[error_position[error_index]].reshape(28,28))\n",
    "\n",
    "number = np.argmax(classifier.predict(X_test[error_position[error_index]].reshape(1,784)))\n",
    "print(\"识别的数字为:{},真是的数字{}\".format(number,np.argmax(y_test[error_position[error_index]])))"
   ]
  },
  {
   "cell_type": "code",
   "execution_count": null,
   "metadata": {},
   "outputs": [],
   "source": []
  }
 ],
 "metadata": {
  "kernelspec": {
   "display_name": "Python 3",
   "language": "python",
   "name": "python3"
  },
  "language_info": {
   "codemirror_mode": {
    "name": "ipython",
    "version": 3
   },
   "file_extension": ".py",
   "mimetype": "text/x-python",
   "name": "python",
   "nbconvert_exporter": "python",
   "pygments_lexer": "ipython3",
   "version": "3.7.9"
  }
 },
 "nbformat": 4,
 "nbformat_minor": 4
}
