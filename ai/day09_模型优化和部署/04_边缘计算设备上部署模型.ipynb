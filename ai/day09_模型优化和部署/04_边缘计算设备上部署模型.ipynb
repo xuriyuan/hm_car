{
 "cells": [
  {
   "cell_type": "code",
   "execution_count": 1,
   "metadata": {},
   "outputs": [],
   "source": [
    "# tflite  tensorflow lite"
   ]
  },
  {
   "cell_type": "code",
   "execution_count": 2,
   "metadata": {},
   "outputs": [],
   "source": [
    "# 把编译好的模型，可以转换成tflite的格式，适合在很弱的cpu的边缘设备上运行"
   ]
  },
  {
   "cell_type": "code",
   "execution_count": 2,
   "metadata": {},
   "outputs": [],
   "source": [
    "## 模型的转化\n",
    "# 把h5模型文件转换成 tflite的类型\n",
    "import tensorflow as tf\n",
    "from tensorflow.keras.applications.mobilenet_v2 import *\n",
    "model = tf.keras.applications.mobilenet_v2.MobileNetV2(weights='imagenet')\n",
    "model.save(\"xx.h5\")"
   ]
  },
  {
   "cell_type": "code",
   "execution_count": 21,
   "metadata": {},
   "outputs": [
    {
     "name": "stdout",
     "output_type": "stream",
     "text": [
      "66058900\n"
     ]
    }
   ],
   "source": [
    "import cv2\n",
    "import numpy as np\n",
    "import time\n",
    "image = cv2.imread('ddd.jpg')\n",
    "x = cv2.resize(image,(224,224))\n",
    "## 模型预测\n",
    "decode_predictions(model.predict(np.array([x])/255.0))\n"
   ]
  },
  {
   "cell_type": "code",
   "execution_count": 5,
   "metadata": {},
   "outputs": [
    {
     "name": "stdout",
     "output_type": "stream",
     "text": [
      "WARNING:tensorflow:From C:\\Users\\Administrator\\Anaconda3\\envs\\tfenv\\lib\\site-packages\\tensorflow\\python\\training\\tracking\\tracking.py:111: Model.state_updates (from tensorflow.python.keras.engine.training) is deprecated and will be removed in a future version.\n",
      "Instructions for updating:\n",
      "This property should not be used in TensorFlow 2.0, as updates are applied automatically.\n",
      "WARNING:tensorflow:From C:\\Users\\Administrator\\Anaconda3\\envs\\tfenv\\lib\\site-packages\\tensorflow\\python\\training\\tracking\\tracking.py:111: Layer.updates (from tensorflow.python.keras.engine.base_layer) is deprecated and will be removed in a future version.\n",
      "Instructions for updating:\n",
      "This property should not be used in TensorFlow 2.0, as updates are applied automatically.\n",
      "INFO:tensorflow:Assets written to: C:\\Users\\ADMINI~1\\AppData\\Local\\Temp\\tmpimh742dq\\assets\n"
     ]
    },
    {
     "data": {
      "text/plain": [
       "13988516"
      ]
     },
     "execution_count": 5,
     "metadata": {},
     "output_type": "execute_result"
    }
   ],
   "source": [
    "## tflite \n",
    "converter = tf.lite.TFLiteConverter.from_keras_model(model)\n",
    "## 使用转换器进行模型的转化\n",
    "tflite_model = converter.convert()\n",
    "\n",
    "## 保存tflite的模型\n",
    "\n",
    "open(\"xxx.tflite\",\"wb\").write(tflite_model)"
   ]
  },
  {
   "cell_type": "code",
   "execution_count": 6,
   "metadata": {},
   "outputs": [],
   "source": [
    "## 转换成tflite文件大小发生了变换，存储方式也发生了变换。\n"
   ]
  },
  {
   "cell_type": "markdown",
   "metadata": {},
   "source": [
    "## 使用tflite的模型来预测数据"
   ]
  },
  {
   "cell_type": "code",
   "execution_count": 36,
   "metadata": {},
   "outputs": [],
   "source": [
    "import cv2\n",
    "import numpy as np\n",
    "image = cv2.imread('ddd.jpg')\n",
    "x = cv2.resize(image,(224,224))\n",
    "x = np.array([x])/255.0"
   ]
  },
  {
   "cell_type": "code",
   "execution_count": 37,
   "metadata": {},
   "outputs": [
    {
     "name": "stdout",
     "output_type": "stream",
     "text": [
      "[{'name': 'input_1', 'index': 0, 'shape': array([  1, 224, 224,   3]), 'shape_signature': array([ -1, 224, 224,   3]), 'dtype': <class 'numpy.float32'>, 'quantization': (0.0, 0), 'quantization_parameters': {'scales': array([], dtype=float32), 'zero_points': array([], dtype=int32), 'quantized_dimension': 0}, 'sparsity_parameters': {}}]\n",
      "[{'name': 'Identity', 'index': 178, 'shape': array([   1, 1000]), 'shape_signature': array([  -1, 1000]), 'dtype': <class 'numpy.float32'>, 'quantization': (0.0, 0), 'quantization_parameters': {'scales': array([], dtype=float32), 'zero_points': array([], dtype=int32), 'quantized_dimension': 0}, 'sparsity_parameters': {}}]\n",
      "[[('n02480855', 'gorilla', 0.66071), ('n02480495', 'orangutan', 0.17576733), ('n02481823', 'chimpanzee', 0.00764068), ('n02484975', 'guenon', 0.004435742), ('n02486410', 'baboon', 0.0038167273)]]\n"
     ]
    }
   ],
   "source": [
    "interpreter = tf.lite.Interpreter(\"xxx.tflite\") # 得到tflite的模型解释器\n",
    "interpreter.allocate_tensors() ## 声明计算所需要的空间\n",
    "\n",
    "input_details = interpreter.get_input_details() # 输入\n",
    "output_details = interpreter.get_output_details() #输出\n",
    "\n",
    "print(input_details)\n",
    "print(output_details)\n",
    "\n",
    "interpreter.set_tensor(input_details[0]['index'],x.astype(np.float32)) #指定输入\n",
    "\n",
    "## 运行推理 \n",
    "interpreter.invoke()\n",
    "\n",
    "## 获取计算出来的结果\n",
    "results = interpreter.get_tensor(output_details[0]['index'])\n",
    "\n",
    "print(decode_predictions(results))"
   ]
  },
  {
   "cell_type": "markdown",
   "metadata": {},
   "source": [
    "# 树莓派 cpu，arm平台。\n",
    "\n",
    "* 链接：https://pan.baidu.com/s/1xPxepH6eLdlW3HNmZvVmUw \n",
    "* 提取码：1234 \n"
   ]
  },
  {
   "cell_type": "code",
   "execution_count": null,
   "metadata": {},
   "outputs": [],
   "source": [
    "sudo apt-get install libjpeg8-dev zlib1g-dev\n",
    "sudo apt-get install Pillow==7.2.0\n",
    "sudo apt-get install Cython\n",
    "pip3 install scikit-build\n",
    "\n",
    "pip3 install opencv-python 三个小时\n",
    "https://github.com/itheima1/tensorflow-on-aarch64"
   ]
  }
 ],
 "metadata": {
  "kernelspec": {
   "display_name": "Python 3",
   "language": "python",
   "name": "python3"
  },
  "language_info": {
   "codemirror_mode": {
    "name": "ipython",
    "version": 3
   },
   "file_extension": ".py",
   "mimetype": "text/x-python",
   "name": "python",
   "nbconvert_exporter": "python",
   "pygments_lexer": "ipython3",
   "version": "3.7.9"
  }
 },
 "nbformat": 4,
 "nbformat_minor": 4
}
