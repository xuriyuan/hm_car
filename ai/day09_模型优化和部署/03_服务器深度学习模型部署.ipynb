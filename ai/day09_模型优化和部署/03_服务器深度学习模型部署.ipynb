{
 "cells": [
  {
   "cell_type": "code",
   "execution_count": null,
   "metadata": {},
   "outputs": [
    {
     "name": "stdout",
     "output_type": "stream",
     "text": [
      " * Serving Flask app \"__main__\" (lazy loading)\n",
      " * Environment: production\n",
      "   WARNING: This is a development server. Do not use it in a production deployment.\n",
      "   Use a production WSGI server instead.\n",
      " * Debug mode: off\n"
     ]
    },
    {
     "name": "stderr",
     "output_type": "stream",
     "text": [
      " * Running on http://0.0.0.0:8080/ (Press CTRL+C to quit)\n",
      "127.0.0.1 - - [25/Oct/2020 16:04:03] \"\u001b[37mGET / HTTP/1.1\u001b[0m\" 200 -\n",
      "127.0.0.1 - - [25/Oct/2020 16:04:04] \"\u001b[37mGET / HTTP/1.1\u001b[0m\" 200 -\n",
      "127.0.0.1 - - [25/Oct/2020 16:04:09] \"\u001b[37mPOST / HTTP/1.1\u001b[0m\" 200 -\n"
     ]
    }
   ],
   "source": [
    "# flask ： python的web框架\n",
    "\n",
    "from flask import *\n",
    "import cv2\n",
    "from tensorflow.keras.applications.mobilenet import *\n",
    "import numpy as np\n",
    "\n",
    "app = Flask(__name__)\n",
    "model = MobileNet(weights='imagenet')\n",
    "\n",
    "@app.route(\"/\", methods=['POST','GET'])\n",
    "def main_page():\n",
    "    if request.method == \"POST\":\n",
    "        file = request.files['file']\n",
    "        file.save(file.filename)\n",
    "        image = cv2.imread(file.filename)\n",
    "        image = cv2.resize(image,(224,224))\n",
    "        image = image /255.0\n",
    "        outputs = model.predict(np.array([image]))\n",
    "        result = decode_predictions(outputs,top=1)\n",
    "        return \"预测的结果是：{}\".format(result)\n",
    "    \n",
    "    return render_template('upload.html')\n",
    "\n",
    "\n",
    "if __name__ == '__main__':\n",
    "    app.run(host='0.0.0.0',port=8080)"
   ]
  },
  {
   "cell_type": "code",
   "execution_count": null,
   "metadata": {},
   "outputs": [],
   "source": []
  }
 ],
 "metadata": {
  "kernelspec": {
   "display_name": "Python 3",
   "language": "python",
   "name": "python3"
  },
  "language_info": {
   "codemirror_mode": {
    "name": "ipython",
    "version": 3
   },
   "file_extension": ".py",
   "mimetype": "text/x-python",
   "name": "python",
   "nbconvert_exporter": "python",
   "pygments_lexer": "ipython3",
   "version": "3.7.9"
  }
 },
 "nbformat": 4,
 "nbformat_minor": 4
}
